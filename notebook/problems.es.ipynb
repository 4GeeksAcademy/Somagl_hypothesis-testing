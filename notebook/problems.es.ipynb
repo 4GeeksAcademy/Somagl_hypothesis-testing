{
 "cells": [
  {
   "cell_type": "markdown",
   "id": "d9d036c6",
   "metadata": {},
   "source": [
    "# Problemas de prueba de hipótesis"
   ]
  },
  {
   "cell_type": "markdown",
   "id": "d157c4db",
   "metadata": {},
   "source": [
    "## Ejercicio 1\n",
    "\n",
    "Usted es un nutricionista que investiga dos tipos diferentes de dietas para ver si existe una diferencia significativa en la pérdida de peso después de un mes. Eliges dos grupos aleatorios de personas; un grupo sigue la primera dieta y el otro sigue la segunda. Al final del mes, se registra la pérdida de peso (en kg) de cada persona:\n",
    "\n",
    "| Diet 1 | Diet 2 |\n",
    "|:-------|:-------|\n",
    "| 2.0 | 3.0 |\n",
    "| 2.5 | 3.2 |\n",
    "| 3.0 | 3.1 |\n",
    "| 2.8 | 2.9 |\n",
    "| 2.3 | 2.8 |\n",
    "| 2.7 | 3.0 |\n",
    "| 2.5 | 3.2 |\n",
    "\n",
    "Con estos datos se busca responder a la siguiente pregunta: ¿Existe una diferencia significativa en la pérdida de peso promedio entre las personas que siguieron la primera dieta y las que siguieron la segunda dieta?\n",
    "\n",
    "Para sacar conclusiones, siga los siguientes puntos:\n",
    "\n",
    "-Enunciar la hipótesis: hipótesis nula y alternativa.\n",
    "-Realizar la prueba para comprobar la hipótesis. Puede utilizar la prueba t de Student.\n",
    "-Analizar las conclusiones."
   ]
  },
  {
   "cell_type": "code",
   "execution_count": 1,
   "id": "8e0f3cf0",
   "metadata": {},
   "outputs": [],
   "source": [
    "# Importamos librerías\n",
    "import numpy as np\n",
    "import pandas as pd\n",
    "import scipy.stats as stats\n",
    "from statsmodels.stats.multicomp import pairwise_tukeyhsd"
   ]
  },
  {
   "cell_type": "code",
   "execution_count": 2,
   "id": "ebc75fec",
   "metadata": {},
   "outputs": [],
   "source": [
    "# Definición de hipótesis\n",
    "#Hipótesis nula = Existe una diferencia significativa entre la pérdida de peso del grupo 1 y 2\n",
    "#Hipotesis alternativa = No existe una diferencia significativa entre la pérdida de peso del grupo 1 y 2"
   ]
  },
  {
   "cell_type": "code",
   "execution_count": 3,
   "id": "dcbc7f1d",
   "metadata": {},
   "outputs": [],
   "source": [
    "# Definición de datos\n",
    "dieta_1 = np.array([2.0, 2.5, 3.0, 2.8, 2.3, 2.7, 2.5])\n",
    "dieta_2 = np.array([3.0, 3.2, 3.1, 2.9, 2.8, 3.0, 3.2])"
   ]
  },
  {
   "cell_type": "code",
   "execution_count": 4,
   "id": "35c4062a",
   "metadata": {},
   "outputs": [
    {
     "name": "stdout",
     "output_type": "stream",
     "text": [
      "0.9635409177367069\n",
      "0.5905246580529597\n"
     ]
    }
   ],
   "source": [
    "# Visualización resultados\n",
    "print(stats.shapiro(dieta_1)[1])\n",
    "print(stats.shapiro(dieta_2)[1])"
   ]
  },
  {
   "cell_type": "code",
   "execution_count": 5,
   "id": "b69ce072",
   "metadata": {},
   "outputs": [
    {
     "name": "stdout",
     "output_type": "stream",
     "text": [
      "Estadística T: -3.5383407969933938\n",
      "Valor P: 0.004083270191713912\n"
     ]
    }
   ],
   "source": [
    "# Definir alpha:\n",
    "nivel_alpha = 0.05\n",
    "\n",
    "# Prueba T-student\n",
    "t_stat, p_valor = stats.ttest_ind(dieta_1, dieta_2)\n",
    "\n",
    "# Mostrar resultados\n",
    "print(f'Estadística T: {t_stat}')\n",
    "print(f'Valor P: {p_valor}')"
   ]
  },
  {
   "cell_type": "code",
   "execution_count": 6,
   "id": "c63d2239",
   "metadata": {},
   "outputs": [
    {
     "name": "stdout",
     "output_type": "stream",
     "text": [
      "Rechazamos la hipótesis nula\n",
      "Existe evidencia de la diferencia significativa entre las pérdidadas de peso de cada uno de los grupos\n"
     ]
    }
   ],
   "source": [
    "# Prueba de la hipótesis\n",
    "if p_valor < nivel_alpha:\n",
    "    print('Rechazamos la hipótesis nula')\n",
    "    print('Existe evidencia de la diferencia significativa entre las pérdidadas de peso de cada uno de los grupos')\n",
    "else:\n",
    "    print('No podemos rechazar la hopótesis nula')\n",
    "    print('No existe una evidencia estadística representativa que muestre una diferencia significativa en la pérdida de peso entre los grupos')"
   ]
  },
  {
   "cell_type": "markdown",
   "id": "bbe75e8a",
   "metadata": {},
   "source": [
    "El valor P está por debajo del 0.05, por lo que podemos rechazar la hipótesis nula. Por otro lado, la Estadística T es negativa por lo que indica que la Dieta 1 hizo perder menor peso a los que siguieron esta dieta. En resumen hay una diferencia significativa entre ambas dietas; la Dieta 2 parece tener mayor impacto en la pérdida de peso."
   ]
  },
  {
   "cell_type": "markdown",
   "id": "f432e18e",
   "metadata": {},
   "source": [
    "## ANOVA\n",
    "\n",
    "**ANOVA** (*Analysis of Variance - Análisis de variación*) Es una técnica estadística utilizada para comparar las medidas de dos o más grupos. La idea detrás de ANOVA es descomponer la variabilidad total de los datos en dos componentes: variabilidad entre grupos y variabilidad dentro de los grupos:\n",
    "\n",
    "- **Variabilidad entre grupos**: Esta variabilidad se refiere a las diferencias entre las medias del grupo. Si esta variabilidad es considerablemente mayor que la variabilidad dentro del grupo, podría ser una indicación de que al menos una de las medias del grupo es diferente.\n",
    "- **Variabilidad dentro del grupo**: Esta variabilidad se refiere a la dispersión de los datos dentro de cada grupo. Si todos los grupos tienen una variabilidad similar, entonces cualquier diferencia notable en las medias de los grupos podría considerarse significativa.\n",
    "\n",
    "Las hipótesis en ANOVA suelen incluir:\n",
    "\n",
    "- **Hipótesis nula** ($H₀$): Las medias de todos los grupos son iguales.\n",
    "- **Hipótesis alternativa** ($H₁$): Al menos una de las medias del grupo es diferente.\n",
    "\n",
    "Si el resultado de la prueba ANOVA es significativo (por ejemplo, un valor p inferior a un umbral como 0,05), esto sugiere que al menos la media de un grupo es diferente."
   ]
  },
  {
   "cell_type": "markdown",
   "id": "fc5f3721",
   "metadata": {},
   "source": [
    "## Ejercicio 2\n",
    "\n",
    "Un agricultor decide probar tres tipos diferentes de fertilizantes para determinar si alguno es superior en términos de producción de maíz. El agricultor planta maíz en 15 parcelas idénticas y utiliza los tres fertilizantes (5 parcelas para cada tipo). Al final de la temporada mide el rendimiento de maíz (en kg) de cada parcela, con el siguiente resultado:\n",
    "\n",
    "| Fertilizante 1 | Fertilizante 2 | Fertilizante 3 |\n",
    "|:-------------|:-------------|:-------------|\n",
    "| 20 | 22 | 24 |\n",
    "| 21 | 21 | 23 |\n",
    "| 20 | 23 | 22 |\n",
    "| 19 | 22 | 23 |\n",
    "| 20 | 21 | 24 |\n",
    "\n",
    "Con estos datos busca responder la siguiente pregunta: ¿Existe una diferencia significativa en el rendimiento promedio del maíz entre los tres tipos de fertilizantes?\n",
    "\n",
    "Para ayudarte, sigue los siguientes puntos:\n",
    "\n",
    "-Enunciar la hipótesis: hipótesis nula y alternativa.\n",
    "-Realizar la prueba ANOVA.\n",
    "-Analizar las conclusiones.\n",
    "-Si un fertilizante es mejor que otro, ¿cómo podemos saberlo?"
   ]
  },
  {
   "cell_type": "code",
   "execution_count": 43,
   "id": "eecad0ca",
   "metadata": {},
   "outputs": [
    {
     "name": "stdout",
     "output_type": "stream",
     "text": [
      "0.32542950716414576\n",
      "0.3140395561440371\n",
      "0.3140395561440371\n"
     ]
    }
   ],
   "source": [
    "# Definición de datos:\n",
    "\n",
    "fertilizante1 = np.array([20, 21, 20, 19, 20])\n",
    "fertilizante2 = np.array([22, 21, 23, 22, 21])\n",
    "fertilizante3 = np.array([24, 23, 22, 23, 24])\n",
    "\n",
    "print(stats.shapiro(fertilizante1)[1])\n",
    "print(stats.shapiro(fertilizante2)[1])\n",
    "print(stats.shapiro(fertilizante3)[1])\n"
   ]
  },
  {
   "cell_type": "code",
   "execution_count": 44,
   "id": "5232f4ac",
   "metadata": {},
   "outputs": [
    {
     "name": "stdout",
     "output_type": "stream",
     "text": [
      "Estadistica F: 20.3158\n",
      "Valor P: 0.0001\n"
     ]
    }
   ],
   "source": [
    "# Definir alpha:\n",
    "nivel_alpha = 0.05\n",
    "\n",
    "# prueba ANOVA\n",
    "f_stats, p_valores = stats.f_oneway(fertilizante1, fertilizante2, fertilizante3)\n",
    "\n",
    "# Mostrar resultados\n",
    "print(f'Estadistica F: {f_stats:.4f}')\n",
    "print(f'Valor P: {p_valores:.4f}')"
   ]
  },
  {
   "cell_type": "code",
   "execution_count": 45,
   "id": "112a7b99",
   "metadata": {},
   "outputs": [
    {
     "name": "stdout",
     "output_type": "stream",
     "text": [
      "Rechazamos la hipótesis nula\n",
      "Hay evidencia estadística significativa de que existe una diferencia en el rendimiento de los fertilizantes\n"
     ]
    }
   ],
   "source": [
    "# Prueba de la hipótesis:\n",
    "if p_valor < nivel_alpha:\n",
    "    print('Rechazamos la hipótesis nula')\n",
    "    print('Hay evidencia estadística significativa de que existe una diferencia en el rendimiento de los fertilizantes')\n",
    "else:\n",
    "    print('No podemos rechazar la hopótesis nula')\n",
    "    print('No hay evidencia estadística sificientemente para afirmar que exista una diferencia en el rendimiento de los fertilizantes')"
   ]
  },
  {
   "cell_type": "markdown",
   "id": "907790de",
   "metadata": {},
   "source": [
    "Búsqueda del mejor fertilizante"
   ]
  },
  {
   "cell_type": "code",
   "execution_count": 46,
   "id": "2d56b4fe",
   "metadata": {},
   "outputs": [
    {
     "name": "stdout",
     "output_type": "stream",
     "text": [
      "Estadistica F: 20.3158\n",
      "Valor P: 0.0001\n"
     ]
    }
   ],
   "source": [
    "# Definición de datos\n",
    "\n",
    "fertilizante1 = np.array([20, 21, 20, 19, 20])\n",
    "fertilizante2 = np.array([22, 21, 23, 22, 21])\n",
    "fertilizante3 = np.array([24, 23, 22, 23, 24])\n",
    "\n",
    "rendimiento = np.concatenate([fertilizante1,fertilizante2,fertilizante3])\n",
    "grupos = np.array(['F1']*5 + ['F2']*5 + ['F3']*5)\n",
    "\n",
    "# Prueba Anova:\n",
    "f_stat, p_valor = stats.f_oneway(fertilizante1,fertilizante2,fertilizante3)\n",
    "\n",
    "# Mostrar resultados:\n",
    "print(f'Estadistica F: {f_stat:.4f}')\n",
    "print(f'Valor P: {p_valor:.4f}')"
   ]
  },
  {
   "cell_type": "code",
   "execution_count": 47,
   "id": "aa48e283",
   "metadata": {},
   "outputs": [
    {
     "name": "stdout",
     "output_type": "stream",
     "text": [
      "Multiple Comparison of Means - Tukey HSD, FWER=0.05\n",
      "==================================================\n",
      "group1 group2 meandiff p-adj  lower  upper  reject\n",
      "--------------------------------------------------\n",
      "    F1     F2      1.8 0.0099 0.4572 3.1428   True\n",
      "    F1     F3      3.2 0.0001 1.8572 4.5428   True\n",
      "    F2     F3      1.4 0.0409 0.0572 2.7428   True\n",
      "--------------------------------------------------\n"
     ]
    }
   ],
   "source": [
    "# Prueba de la hipótesis\n",
    "\n",
    "if p_valor < 0.05:\n",
    "    tukey_results = pairwise_tukeyhsd(endog=rendimiento, groups=grupos, alpha=0.05)\n",
    "    print(tukey_results)\n",
    "else:\n",
    "    print(\"No se puede rechazar la hipótesis nula; no hay evidencia suficiente para afirmar que hay diferencias notables en los diferentes fertilizantes\")"
   ]
  },
  {
   "cell_type": "code",
   "execution_count": 48,
   "id": "61bdb98f",
   "metadata": {},
   "outputs": [],
   "source": [
    "# Gráfico\n",
    "import matplotlib.pyplot as plt\n",
    "import seaborn as sns"
   ]
  },
  {
   "cell_type": "code",
   "execution_count": 49,
   "id": "c3aea93d",
   "metadata": {},
   "outputs": [],
   "source": [
    "# Crear DataFrame\n",
    "df = pd.DataFrame({\n",
    "    'Rendimiento': np.concatenate([fertilizante1, fertilizante2, fertilizante3]),\n",
    "    'Fertilizante': ['F1'] * len(fertilizante1) + ['F2'] * len(fertilizante2) + ['F3'] * len(fertilizante3)\n",
    "})"
   ]
  },
  {
   "cell_type": "code",
   "execution_count": 50,
   "id": "4ae6cd4c",
   "metadata": {},
   "outputs": [
    {
     "data": {
      "image/png": "[encoded data removed]",
      "text/plain": [
       "<Figure size 1500x1300 with 1 Axes>"
      ]
     },
     "metadata": {},
     "output_type": "display_data"
    }
   ],
   "source": [
    "# Configurar gráfico\n",
    "plt.figure(figsize=(15,13))\n",
    "sns.boxplot(x=\"Fertilizante\", y=\"Rendimiento\", data=df)\n",
    "plt.title(\"Distribución del rendimiento por fertilizante\")\n",
    "plt.xlabel(\"Grupo de fertilizante\")\n",
    "plt.ylabel(\"Rendimiento\")\n",
    "plt.show()"
   ]
  },
  {
   "cell_type": "code",
   "execution_count": 51,
   "id": "8ce0bea1",
   "metadata": {},
   "outputs": [
    {
     "data": {
      "image/png": "[encoded data removed]",
      "text/plain": [
       "<Figure size 800x600 with 1 Axes>"
      ]
     },
     "metadata": {},
     "output_type": "display_data"
    }
   ],
   "source": [
    "# Configurar histograma\n",
    "plt.figure(figsize=(8, 6))\n",
    "plt.hist(rendimiento, bins=5, color=\"#00FFFF\", alpha=0.7)\n",
    "plt.title(\"Distribución del rendimiento de los fertilizantes\")\n",
    "plt.xlabel(\"Rendimiento\")\n",
    "plt.ylabel(\"Frecuencia\")\n",
    "plt.show()"
   ]
  },
  {
   "cell_type": "markdown",
   "id": "9ffaa13c",
   "metadata": {},
   "source": [
    "Concluímos que se puede rechazar la hipótesis nula y, por lo tanto, se concluye que hay diferencia significativas en el rendimiento entre los fertilizantes.\n",
    "El histograma muestra una distribución sesgada a la izquierda. Éste muestra el rendimiento más alto (24 kg) con la mayor frecuencia. Así, uno de los fertilizantes podría estar generando un mejor rendimiento.\n",
    "Así, el análisis visual refuerza la necesidad de realizar pruebas adicionales para confirmar la mejor opción para mejorar la producción."
   ]
  }
 ],
 "metadata": {
  "kernelspec": {
   "display_name": "Python 3",
   "language": "python",
   "name": "python3"
  },
  "language_info": {
   "codemirror_mode": {
    "name": "ipython",
    "version": 3
   },
   "file_extension": ".py",
   "mimetype": "text/x-python",
   "name": "python",
   "nbconvert_exporter": "python",
   "pygments_lexer": "ipython3",
   "version": "3.11.4"
  }
 },
 "nbformat": 4,
 "nbformat_minor": 5
}
