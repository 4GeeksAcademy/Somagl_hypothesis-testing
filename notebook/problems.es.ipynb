{
 "cells": [
  {
   "cell_type": "code",
   "execution_count": 339,
   "id": "8de21367",
   "metadata": {},
   "outputs": [],
   "source": [
    "# Importamos librerías\n",
    "import numpy as np\n",
    "import pandas as pd\n",
    "import scipy.stats as stats\n",
    "from statsmodels.stats.multicomp import pairwise_tukeyhsd\n",
    "import matplotlib.pyplot as plt\n",
    "import seaborn as sns"
   ]
  },
  {
   "cell_type": "markdown",
   "id": "d9d036c6",
   "metadata": {},
   "source": [
    "# Problemas de prueba de hipótesis"
   ]
  },
  {
   "cell_type": "markdown",
   "id": "d157c4db",
   "metadata": {},
   "source": [
    "## Ejercicio 1\n",
    "\n",
    "Usted es un nutricionista que investiga dos tipos diferentes de dietas para ver si existe una diferencia significativa en la pérdida de peso después de un mes. Eliges dos grupos aleatorios de personas; un grupo sigue la primera dieta y el otro sigue la segunda. Al final del mes, se registra la pérdida de peso (en kg) de cada persona:\n",
    "\n",
    "| Diet 1 | Diet 2 |\n",
    "|:-------|:-------|\n",
    "| 2.0 | 3.0 |\n",
    "| 2.5 | 3.2 |\n",
    "| 3.0 | 3.1 |\n",
    "| 2.8 | 2.9 |\n",
    "| 2.3 | 2.8 |\n",
    "| 2.7 | 3.0 |\n",
    "| 2.5 | 3.2 |\n",
    "\n",
    "Con estos datos se busca responder a la siguiente pregunta: ¿Existe una diferencia significativa en la pérdida de peso promedio entre las personas que siguieron la primera dieta y las que siguieron la segunda dieta?\n",
    "\n",
    "Para sacar conclusiones, siga los siguientes puntos:\n",
    "\n",
    "-Enunciar la hipótesis: hipótesis nula y alternativa.\n",
    "-Realizar la prueba para comprobar la hipótesis. Puede utilizar la prueba t de Student.\n",
    "-Analizar las conclusiones."
   ]
  },
  {
   "cell_type": "code",
   "execution_count": 340,
   "id": "ebc75fec",
   "metadata": {},
   "outputs": [],
   "source": [
    "# Definición de hipótesis\n",
    "#Hipótesis nula = Existe una diferencia significativa entre la pérdida de peso del grupo 1 y 2\n",
    "#Hipotesis alternativa = No existe una diferencia significativa entre la pérdida de peso del grupo 1 y 2"
   ]
  },
  {
   "cell_type": "code",
   "execution_count": 341,
   "id": "dcbc7f1d",
   "metadata": {},
   "outputs": [],
   "source": [
    "# Definición de datos\n",
    "dieta_1 = np.array([2.0, 2.5, 3.0, 2.8, 2.3, 2.7, 2.5])\n",
    "dieta_2 = np.array([3.0, 3.2, 3.1, 2.9, 2.8, 3.0, 3.2])"
   ]
  },
  {
   "cell_type": "code",
   "execution_count": 342,
   "id": "35c4062a",
   "metadata": {},
   "outputs": [
    {
     "name": "stdout",
     "output_type": "stream",
     "text": [
      "Test de Shapiro-Wilk para dieta_1: 0.9635409177367069\n",
      "Test de Shapiro-Wilk para dieta_2: 0.5905246580529597\n"
     ]
    }
   ],
   "source": [
    "# Visualización resultados\n",
    "print('Test de Shapiro-Wilk para dieta_1:',stats.shapiro(dieta_1)[1])\n",
    "print('Test de Shapiro-Wilk para dieta_2:',stats.shapiro(dieta_2)[1])"
   ]
  },
  {
   "cell_type": "code",
   "execution_count": 343,
   "id": "169328f1",
   "metadata": {},
   "outputs": [
    {
     "name": "stdout",
     "output_type": "stream",
     "text": [
      "Test de Levene entre dieta_1 y dieta_2: 0.15767770055358\n"
     ]
    }
   ],
   "source": [
    "# Comprobar homocedasticidad (igualdad de varianzas)\n",
    "print(\"Test de Levene entre dieta_1 y dieta_2:\", stats.levene(dieta_1, dieta_2)[1])"
   ]
  },
  {
   "cell_type": "code",
   "execution_count": 344,
   "id": "b69ce072",
   "metadata": {},
   "outputs": [
    {
     "name": "stdout",
     "output_type": "stream",
     "text": [
      "Estadística T: -3.5383\n",
      "Valor P: 0.0041\n"
     ]
    }
   ],
   "source": [
    "# Definir alpha:\n",
    "nivel_alpha = 0.05\n",
    "\n",
    "# Prueba T-student\n",
    "t_stat, p_valor = stats.ttest_ind(dieta_1, dieta_2)\n",
    "\n",
    "# Mostrar resultados\n",
    "print(f'Estadística T: {t_stat:.4f}')\n",
    "print(f'Valor P: {p_valor:.4f}')"
   ]
  },
  {
   "cell_type": "code",
   "execution_count": 345,
   "id": "c63d2239",
   "metadata": {},
   "outputs": [
    {
     "name": "stdout",
     "output_type": "stream",
     "text": [
      "Rechazamos la hipótesis nula\n",
      "Existe evidencia de la diferencia significativa entre las pérdidadas de peso de cada uno de los grupos\n"
     ]
    }
   ],
   "source": [
    "# Prueba de la hipótesis\n",
    "if p_valor < nivel_alpha:\n",
    "    print('Rechazamos la hipótesis nula')\n",
    "    print('Existe evidencia de la diferencia significativa entre las pérdidadas de peso de cada uno de los grupos')\n",
    "else:\n",
    "    print('No podemos rechazar la hopótesis nula')\n",
    "    print('No existe una evidencia estadística representativa que muestre una diferencia significativa en la pérdida de peso entre los grupos')"
   ]
  },
  {
   "cell_type": "markdown",
   "id": "bbe75e8a",
   "metadata": {},
   "source": [
    "El valor P está por debajo del 0.05, por lo que podemos rechazar la hipótesis nula. Por otro lado, la Estadística T es negativa por lo que indica que la Dieta 1 hizo perder menor peso a los que siguieron esta dieta. En resumen hay una diferencia significativa entre ambas dietas; la Dieta 2 parece tener mayor impacto en la pérdida de peso."
   ]
  },
  {
   "cell_type": "markdown",
   "id": "f432e18e",
   "metadata": {},
   "source": [
    "## ANOVA\n",
    "\n",
    "**ANOVA** (*Analysis of Variance - Análisis de variación*) Es una técnica estadística utilizada para comparar las medidas de dos o más grupos. La idea detrás de ANOVA es descomponer la variabilidad total de los datos en dos componentes: variabilidad entre grupos y variabilidad dentro de los grupos:\n",
    "\n",
    "- **Variabilidad entre grupos**: Esta variabilidad se refiere a las diferencias entre las medias del grupo. Si esta variabilidad es considerablemente mayor que la variabilidad dentro del grupo, podría ser una indicación de que al menos una de las medias del grupo es diferente.\n",
    "- **Variabilidad dentro del grupo**: Esta variabilidad se refiere a la dispersión de los datos dentro de cada grupo. Si todos los grupos tienen una variabilidad similar, entonces cualquier diferencia notable en las medias de los grupos podría considerarse significativa.\n",
    "\n",
    "Las hipótesis en ANOVA suelen incluir:\n",
    "\n",
    "- **Hipótesis nula** ($H₀$): Las medias de todos los grupos son iguales.\n",
    "- **Hipótesis alternativa** ($H₁$): Al menos una de las medias del grupo es diferente.\n",
    "\n",
    "Si el resultado de la prueba ANOVA es significativo (por ejemplo, un valor p inferior a un umbral como 0,05), esto sugiere que al menos la media de un grupo es diferente."
   ]
  },
  {
   "cell_type": "markdown",
   "id": "fc5f3721",
   "metadata": {},
   "source": [
    "## Ejercicio 2\n",
    "\n",
    "Un agricultor decide probar tres tipos diferentes de fertilizantes para determinar si alguno es superior en términos de producción de maíz. El agricultor planta maíz en 15 parcelas idénticas y utiliza los tres fertilizantes (5 parcelas para cada tipo). Al final de la temporada mide el rendimiento de maíz (en kg) de cada parcela, con el siguiente resultado:\n",
    "\n",
    "| Fertilizante 1 | Fertilizante 2 | Fertilizante 3 |\n",
    "|:-------------|:-------------|:-------------|\n",
    "| 20 | 22 | 24 |\n",
    "| 21 | 21 | 23 |\n",
    "| 20 | 23 | 22 |\n",
    "| 19 | 22 | 23 |\n",
    "| 20 | 21 | 24 |\n",
    "\n",
    "Con estos datos busca responder la siguiente pregunta: ¿Existe una diferencia significativa en el rendimiento promedio del maíz entre los tres tipos de fertilizantes?\n",
    "\n",
    "Para ayudarte, sigue los siguientes puntos:\n",
    "\n",
    "-Enunciar la hipótesis: hipótesis nula y alternativa.\n",
    "-Realizar la prueba ANOVA.\n",
    "-Analizar las conclusiones.\n",
    "-Si un fertilizante es mejor que otro, ¿cómo podemos saberlo?"
   ]
  },
  {
   "cell_type": "code",
   "execution_count": 346,
   "id": "eecad0ca",
   "metadata": {},
   "outputs": [
    {
     "name": "stdout",
     "output_type": "stream",
     "text": [
      "Shapiro F1: 0.32542950716414576\n",
      "Shapiro F2: 0.3140395561440371\n",
      "Shapiro F3: 0.3140395561440371\n"
     ]
    }
   ],
   "source": [
    "# Definición de datos:\n",
    "\n",
    "fertilizante1 = np.array([20, 21, 20, 19, 20])\n",
    "fertilizante2 = np.array([22, 21, 23, 22, 21])\n",
    "fertilizante3 = np.array([24, 23, 22, 23, 24])\n",
    "\n",
    "print('Shapiro F1:',stats.shapiro(fertilizante1)[1])\n",
    "print('Shapiro F2:',stats.shapiro(fertilizante2)[1])\n",
    "print('Shapiro F3:',stats.shapiro(fertilizante3)[1])\n"
   ]
  },
  {
   "cell_type": "code",
   "execution_count": 347,
   "id": "025f9395",
   "metadata": {},
   "outputs": [
    {
     "name": "stdout",
     "output_type": "stream",
     "text": [
      "Test de Levene entre fertilizantes: 0.8039599174006208\n"
     ]
    }
   ],
   "source": [
    "# Comprobación de homocedasticidad\n",
    "print(\"Test de Levene entre fertilizantes:\", stats.levene(fertilizante1, fertilizante2, fertilizante3)[1])"
   ]
  },
  {
   "cell_type": "code",
   "execution_count": 348,
   "id": "5232f4ac",
   "metadata": {},
   "outputs": [
    {
     "name": "stdout",
     "output_type": "stream",
     "text": [
      "Estadistica F: 20.3158\n",
      "Valor P: 0.0001\n"
     ]
    }
   ],
   "source": [
    "# Definir alpha:\n",
    "nivel_alpha = 0.05\n",
    "\n",
    "# prueba ANOVA\n",
    "f_stats, p_valores = stats.f_oneway(fertilizante1, fertilizante2, fertilizante3)\n",
    "\n",
    "# Mostrar resultados\n",
    "print(f'Estadistica F: {f_stats:.4f}')\n",
    "print(f'Valor P: {p_valores:.4f}')"
   ]
  },
  {
   "cell_type": "code",
   "execution_count": 349,
   "id": "669b8998",
   "metadata": {},
   "outputs": [
    {
     "name": "stdout",
     "output_type": "stream",
     "text": [
      "Rechazamos la hipótesis nula\n",
      "Existe evidencia significativa de diferencia en rendimiento entre fertilizantes\n"
     ]
    },
    {
     "name": "stdout",
     "output_type": "stream",
     "text": [
      "Multiple Comparison of Means - Tukey HSD, FWER=0.05\n",
      "==================================================\n",
      "group1 group2 meandiff p-adj  lower  upper  reject\n",
      "--------------------------------------------------\n",
      "    F1     F2      1.8 0.0099 0.4572 3.1428   True\n",
      "    F1     F3      3.2 0.0001 1.8572 4.5428   True\n",
      "    F2     F3      1.4 0.0409 0.0572 2.7428   True\n",
      "--------------------------------------------------\n",
      "\n",
      "Ranking de fertilizantes según producción promedio:\n",
      "  Grupo  Media\n",
      "0    F3   23.2\n",
      "1    F2   21.8\n",
      "2    F1   20.0\n"
     ]
    }
   ],
   "source": [
    "if p_valores < nivel_alpha:\n",
    "    print('Rechazamos la hipótesis nula')\n",
    "    print('Existe evidencia significativa de diferencia en rendimiento entre fertilizantes')\n",
    "\n",
    "    # Prueba post hoc: Tukey\n",
    "    rendimiento = np.concatenate([fertilizante1, fertilizante2, fertilizante3])\n",
    "    grupos = np.array(['F1']*5 + ['F2']*5 + ['F3']*5)\n",
    "    tukey_results = pairwise_tukeyhsd(endog=rendimiento, groups=grupos, alpha=nivel_alpha)\n",
    "    print(tukey_results)\n",
    "\n",
    "    # Ranking de fertilizantes basado en diferencia media\n",
    "    print(\"\\nRanking de fertilizantes según producción promedio:\")\n",
    "    ranking = pd.DataFrame({\n",
    "        'Grupo': ['F1', 'F2', 'F3'],\n",
    "        'Media': [fertilizante1.mean(), fertilizante2.mean(), fertilizante3.mean()]\n",
    "    }).sort_values(by='Media', ascending=False)\n",
    "    print(ranking.reset_index(drop=True))\n",
    "else:\n",
    "    print('No se puede rechazar la hipótesis nula')\n",
    "    print('No hay evidencia suficiente para afirmar diferencias entre fertilizantes')"
   ]
  },
  {
   "cell_type": "markdown",
   "id": "907790de",
   "metadata": {},
   "source": [
    "Búsqueda del mejor fertilizante"
   ]
  },
  {
   "cell_type": "code",
   "execution_count": 350,
   "id": "03bd37be",
   "metadata": {},
   "outputs": [
    {
     "data": {
      "image/png": "[encoded data removed]",
      "text/plain": [
       "<Figure size 1000x600 with 1 Axes>"
      ]
     },
     "metadata": {},
     "output_type": "display_data"
    }
   ],
   "source": [
    "# Visualización\n",
    "df = pd.DataFrame({\n",
    "    'Rendimiento': rendimiento,\n",
    "    'Fertilizante': grupos\n",
    "})\n",
    "plt.figure(figsize=(10, 6))\n",
    "sns.boxplot(x=\"Fertilizante\", y=\"Rendimiento\", data=df)\n",
    "plt.title(\"Distribución del rendimiento por fertilizante\")\n",
    "plt.xlabel(\"Grupo de fertilizante\")\n",
    "plt.ylabel(\"Rendimiento\")\n",
    "plt.show()"
   ]
  },
  {
   "cell_type": "markdown",
   "id": "9ffaa13c",
   "metadata": {},
   "source": [
    "Tras comprobar la normalidad y la homocedasticidad de los datos, realizamos un análisis ANOVA que reveló diferencias significativas entre los fertilizantes (valor p < 0.05). La prueba post hoc de Tukey confirmó que todos los pares presentan diferencias relevantes. El ranking elaborado posiciona al Fertilizante 3 como el más efectivo, seguido por F2 y finalmente F1. La visualización mediante boxplot refuerza esta interpretación y respalda la decisión de recomendar F3 para maximizar la producción de maíz."
   ]
  }
 ],
 "metadata": {
  "kernelspec": {
   "display_name": "Python 3",
   "language": "python",
   "name": "python3"
  },
  "language_info": {
   "codemirror_mode": {
    "name": "ipython",
    "version": 3
   },
   "file_extension": ".py",
   "mimetype": "text/x-python",
   "name": "python",
   "nbconvert_exporter": "python",
   "pygments_lexer": "ipython3",
   "version": "3.11.4"
  }
 },
 "nbformat": 4,
 "nbformat_minor": 5
}
